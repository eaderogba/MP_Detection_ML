{
  "nbformat": 4,
  "nbformat_minor": 0,
  "metadata": {
    "colab": {
      "provenance": [],
      "gpuType": "V28"
    },
    "kernelspec": {
      "name": "python3",
      "display_name": "Python 3"
    },
    "language_info": {
      "name": "python"
    },
    "accelerator": "TPU"
  },
  "cells": [
    {
      "cell_type": "code",
      "execution_count": null,
      "metadata": {
        "colab": {
          "base_uri": "https://localhost:8080/"
        },
        "id": "tQ1PbGHOHlac",
        "outputId": "1b059faa-312e-4177-a16e-4091c93d46c5"
      },
      "outputs": [
        {
          "output_type": "stream",
          "name": "stdout",
          "text": [
            "Requirement already satisfied: pandas in /usr/local/lib/python3.10/dist-packages (2.1.4)\n",
            "Requirement already satisfied: numpy in /usr/local/lib/python3.10/dist-packages (1.26.4)\n",
            "Requirement already satisfied: tensorflow in /usr/local/lib/python3.10/dist-packages (2.17.0)\n",
            "Requirement already satisfied: scikit-learn in /usr/local/lib/python3.10/dist-packages (1.3.2)\n",
            "Requirement already satisfied: matplotlib in /usr/local/lib/python3.10/dist-packages (3.7.1)\n",
            "Requirement already satisfied: dvc in /usr/local/lib/python3.10/dist-packages (3.53.2)\n",
            "Requirement already satisfied: PyYAML in /usr/local/lib/python3.10/dist-packages (6.0.2)\n",
            "Requirement already satisfied: python-box==6.0.2 in /usr/local/lib/python3.10/dist-packages (6.0.2)\n",
            "Requirement already satisfied: tqdm in /usr/local/lib/python3.10/dist-packages (4.66.5)\n",
            "Requirement already satisfied: ensure==1.0.2 in /usr/local/lib/python3.10/dist-packages (1.0.2)\n",
            "Requirement already satisfied: joblib in /usr/local/lib/python3.10/dist-packages (1.4.2)\n",
            "Requirement already satisfied: types-PyYAML in /usr/local/lib/python3.10/dist-packages (6.0.12.20240808)\n",
            "Requirement already satisfied: scipy in /usr/local/lib/python3.10/dist-packages (1.13.1)\n",
            "Requirement already satisfied: Flask in /usr/local/lib/python3.10/dist-packages (2.2.5)\n",
            "Requirement already satisfied: Flask-Cors in /usr/local/lib/python3.10/dist-packages (4.0.1)\n",
            "Requirement already satisfied: six>=1.11.0 in /usr/local/lib/python3.10/dist-packages (from ensure==1.0.2) (1.16.0)\n",
            "Requirement already satisfied: python-dateutil>=2.8.2 in /usr/local/lib/python3.10/dist-packages (from pandas) (2.8.2)\n",
            "Requirement already satisfied: pytz>=2020.1 in /usr/local/lib/python3.10/dist-packages (from pandas) (2024.1)\n",
            "Requirement already satisfied: tzdata>=2022.1 in /usr/local/lib/python3.10/dist-packages (from pandas) (2024.1)\n",
            "Requirement already satisfied: absl-py>=1.0.0 in /usr/local/lib/python3.10/dist-packages (from tensorflow) (1.4.0)\n",
            "Requirement already satisfied: astunparse>=1.6.0 in /usr/local/lib/python3.10/dist-packages (from tensorflow) (1.6.3)\n",
            "Requirement already satisfied: flatbuffers>=24.3.25 in /usr/local/lib/python3.10/dist-packages (from tensorflow) (24.3.25)\n",
            "Requirement already satisfied: gast!=0.5.0,!=0.5.1,!=0.5.2,>=0.2.1 in /usr/local/lib/python3.10/dist-packages (from tensorflow) (0.6.0)\n",
            "Requirement already satisfied: google-pasta>=0.1.1 in /usr/local/lib/python3.10/dist-packages (from tensorflow) (0.2.0)\n",
            "Requirement already satisfied: h5py>=3.10.0 in /usr/local/lib/python3.10/dist-packages (from tensorflow) (3.11.0)\n",
            "Requirement already satisfied: libclang>=13.0.0 in /usr/local/lib/python3.10/dist-packages (from tensorflow) (18.1.1)\n",
            "Requirement already satisfied: ml-dtypes<0.5.0,>=0.3.1 in /usr/local/lib/python3.10/dist-packages (from tensorflow) (0.4.0)\n",
            "Requirement already satisfied: opt-einsum>=2.3.2 in /usr/local/lib/python3.10/dist-packages (from tensorflow) (3.3.0)\n",
            "Requirement already satisfied: packaging in /usr/local/lib/python3.10/dist-packages (from tensorflow) (24.1)\n",
            "Requirement already satisfied: protobuf!=4.21.0,!=4.21.1,!=4.21.2,!=4.21.3,!=4.21.4,!=4.21.5,<5.0.0dev,>=3.20.3 in /usr/local/lib/python3.10/dist-packages (from tensorflow) (3.20.3)\n",
            "Requirement already satisfied: requests<3,>=2.21.0 in /usr/local/lib/python3.10/dist-packages (from tensorflow) (2.32.3)\n",
            "Requirement already satisfied: setuptools in /usr/local/lib/python3.10/dist-packages (from tensorflow) (71.0.4)\n",
            "Requirement already satisfied: termcolor>=1.1.0 in /usr/local/lib/python3.10/dist-packages (from tensorflow) (2.4.0)\n",
            "Requirement already satisfied: typing-extensions>=3.6.6 in /usr/local/lib/python3.10/dist-packages (from tensorflow) (4.12.2)\n",
            "Requirement already satisfied: wrapt>=1.11.0 in /usr/local/lib/python3.10/dist-packages (from tensorflow) (1.16.0)\n",
            "Requirement already satisfied: grpcio<2.0,>=1.24.3 in /usr/local/lib/python3.10/dist-packages (from tensorflow) (1.64.1)\n",
            "Requirement already satisfied: tensorboard<2.18,>=2.17 in /usr/local/lib/python3.10/dist-packages (from tensorflow) (2.17.0)\n",
            "Requirement already satisfied: keras>=3.2.0 in /usr/local/lib/python3.10/dist-packages (from tensorflow) (3.4.1)\n",
            "Requirement already satisfied: tensorflow-io-gcs-filesystem>=0.23.1 in /usr/local/lib/python3.10/dist-packages (from tensorflow) (0.37.1)\n",
            "Requirement already satisfied: threadpoolctl>=2.0.0 in /usr/local/lib/python3.10/dist-packages (from scikit-learn) (3.5.0)\n",
            "Requirement already satisfied: contourpy>=1.0.1 in /usr/local/lib/python3.10/dist-packages (from matplotlib) (1.2.1)\n",
            "Requirement already satisfied: cycler>=0.10 in /usr/local/lib/python3.10/dist-packages (from matplotlib) (0.12.1)\n",
            "Requirement already satisfied: fonttools>=4.22.0 in /usr/local/lib/python3.10/dist-packages (from matplotlib) (4.53.1)\n",
            "Requirement already satisfied: kiwisolver>=1.0.1 in /usr/local/lib/python3.10/dist-packages (from matplotlib) (1.4.5)\n",
            "Requirement already satisfied: pillow>=6.2.0 in /usr/local/lib/python3.10/dist-packages (from matplotlib) (9.4.0)\n",
            "Requirement already satisfied: pyparsing>=2.3.1 in /usr/local/lib/python3.10/dist-packages (from matplotlib) (3.1.2)\n",
            "Requirement already satisfied: attrs>=22.2.0 in /usr/local/lib/python3.10/dist-packages (from dvc) (24.2.0)\n",
            "Requirement already satisfied: celery in /usr/local/lib/python3.10/dist-packages (from dvc) (5.4.0)\n",
            "Requirement already satisfied: colorama>=0.3.9 in /usr/local/lib/python3.10/dist-packages (from dvc) (0.4.6)\n",
            "Requirement already satisfied: configobj>=5.0.6 in /usr/local/lib/python3.10/dist-packages (from dvc) (5.0.8)\n",
            "Requirement already satisfied: distro>=1.3 in /usr/lib/python3/dist-packages (from dvc) (1.7.0)\n",
            "Requirement already satisfied: dpath<3,>=2.1.0 in /usr/local/lib/python3.10/dist-packages (from dvc) (2.2.0)\n",
            "Requirement already satisfied: dulwich in /usr/local/lib/python3.10/dist-packages (from dvc) (0.22.1)\n",
            "Requirement already satisfied: dvc-data<3.16,>=3.15 in /usr/local/lib/python3.10/dist-packages (from dvc) (3.15.2)\n",
            "Requirement already satisfied: dvc-http>=2.29.0 in /usr/local/lib/python3.10/dist-packages (from dvc) (2.32.0)\n",
            "Requirement already satisfied: dvc-objects in /usr/local/lib/python3.10/dist-packages (from dvc) (5.1.0)\n",
            "Requirement already satisfied: dvc-render<2,>=1.0.1 in /usr/local/lib/python3.10/dist-packages (from dvc) (1.0.2)\n",
            "Requirement already satisfied: dvc-studio-client<1,>=0.21 in /usr/local/lib/python3.10/dist-packages (from dvc) (0.21.0)\n",
            "Requirement already satisfied: dvc-task<1,>=0.3.0 in /usr/local/lib/python3.10/dist-packages (from dvc) (0.4.0)\n",
            "Requirement already satisfied: flatten-dict<1,>=0.4.1 in /usr/local/lib/python3.10/dist-packages (from dvc) (0.4.2)\n",
            "Requirement already satisfied: flufl.lock<9,>=8.1.0 in /usr/local/lib/python3.10/dist-packages (from dvc) (8.1.0)\n",
            "Requirement already satisfied: fsspec>=2024.2.0 in /usr/local/lib/python3.10/dist-packages (from dvc) (2024.6.1)\n",
            "Requirement already satisfied: funcy>=1.14 in /usr/local/lib/python3.10/dist-packages (from dvc) (2.0)\n",
            "Requirement already satisfied: grandalf<1,>=0.7 in /usr/local/lib/python3.10/dist-packages (from dvc) (0.8)\n",
            "Requirement already satisfied: gto<2,>=1.6.0 in /usr/local/lib/python3.10/dist-packages (from dvc) (1.7.1)\n",
            "Requirement already satisfied: hydra-core>=1.1 in /usr/local/lib/python3.10/dist-packages (from dvc) (1.3.2)\n",
            "Requirement already satisfied: iterative-telemetry>=0.0.7 in /usr/local/lib/python3.10/dist-packages (from dvc) (0.0.8)\n",
            "Requirement already satisfied: kombu in /usr/local/lib/python3.10/dist-packages (from dvc) (5.4.0)\n",
            "Requirement already satisfied: networkx>=2.5 in /usr/local/lib/python3.10/dist-packages (from dvc) (3.3)\n",
            "Requirement already satisfied: omegaconf in /usr/local/lib/python3.10/dist-packages (from dvc) (2.3.0)\n",
            "Requirement already satisfied: pathspec>=0.10.3 in /usr/local/lib/python3.10/dist-packages (from dvc) (0.12.1)\n",
            "Requirement already satisfied: platformdirs<4,>=3.1.1 in /usr/local/lib/python3.10/dist-packages (from dvc) (3.11.0)\n",
            "Requirement already satisfied: psutil>=5.8 in /usr/local/lib/python3.10/dist-packages (from dvc) (5.9.5)\n",
            "Requirement already satisfied: pydot>=1.2.4 in /usr/local/lib/python3.10/dist-packages (from dvc) (1.4.2)\n",
            "Requirement already satisfied: pygtrie>=2.3.2 in /usr/local/lib/python3.10/dist-packages (from dvc) (2.5.0)\n",
            "Requirement already satisfied: rich>=12 in /usr/local/lib/python3.10/dist-packages (from dvc) (13.7.1)\n",
            "Requirement already satisfied: ruamel.yaml>=0.17.11 in /usr/local/lib/python3.10/dist-packages (from dvc) (0.18.6)\n",
            "Requirement already satisfied: scmrepo<4,>=3.3.4 in /usr/local/lib/python3.10/dist-packages (from dvc) (3.3.7)\n",
            "Requirement already satisfied: shortuuid>=0.5 in /usr/local/lib/python3.10/dist-packages (from dvc) (1.0.13)\n",
            "Requirement already satisfied: shtab<2,>=1.3.4 in /usr/local/lib/python3.10/dist-packages (from dvc) (1.7.1)\n",
            "Requirement already satisfied: tabulate>=0.8.7 in /usr/local/lib/python3.10/dist-packages (from dvc) (0.9.0)\n",
            "Requirement already satisfied: tomlkit>=0.11.1 in /usr/local/lib/python3.10/dist-packages (from dvc) (0.13.0)\n",
            "Requirement already satisfied: voluptuous>=0.11.7 in /usr/local/lib/python3.10/dist-packages (from dvc) (0.15.2)\n",
            "Requirement already satisfied: zc.lockfile>=1.2.1 in /usr/local/lib/python3.10/dist-packages (from dvc) (3.0.post1)\n",
            "Requirement already satisfied: Werkzeug>=2.2.2 in /usr/local/lib/python3.10/dist-packages (from Flask) (3.0.3)\n",
            "Requirement already satisfied: Jinja2>=3.0 in /usr/local/lib/python3.10/dist-packages (from Flask) (3.1.4)\n",
            "Requirement already satisfied: itsdangerous>=2.0 in /usr/local/lib/python3.10/dist-packages (from Flask) (2.2.0)\n",
            "Requirement already satisfied: click>=8.0 in /usr/local/lib/python3.10/dist-packages (from Flask) (8.1.7)\n",
            "Requirement already satisfied: wheel<1.0,>=0.23.0 in /usr/local/lib/python3.10/dist-packages (from astunparse>=1.6.0->tensorflow) (0.44.0)\n",
            "Requirement already satisfied: dictdiffer>=0.8.1 in /usr/local/lib/python3.10/dist-packages (from dvc-data<3.16,>=3.15->dvc) (0.9.0)\n",
            "Requirement already satisfied: diskcache>=5.2.1 in /usr/local/lib/python3.10/dist-packages (from dvc-data<3.16,>=3.15->dvc) (5.6.3)\n",
            "Requirement already satisfied: sqltrie<1,>=0.11.0 in /usr/local/lib/python3.10/dist-packages (from dvc-data<3.16,>=3.15->dvc) (0.11.1)\n",
            "Requirement already satisfied: aiohttp-retry>=2.5.0 in /usr/local/lib/python3.10/dist-packages (from dvc-http>=2.29.0->dvc) (2.8.3)\n",
            "Requirement already satisfied: billiard<5.0,>=4.2.0 in /usr/local/lib/python3.10/dist-packages (from celery->dvc) (4.2.0)\n",
            "Requirement already satisfied: vine<6.0,>=5.1.0 in /usr/local/lib/python3.10/dist-packages (from celery->dvc) (5.1.0)\n",
            "Requirement already satisfied: click-didyoumean>=0.3.0 in /usr/local/lib/python3.10/dist-packages (from celery->dvc) (0.3.1)\n",
            "Requirement already satisfied: click-repl>=0.2.0 in /usr/local/lib/python3.10/dist-packages (from celery->dvc) (0.3.0)\n",
            "Requirement already satisfied: click-plugins>=1.1.1 in /usr/local/lib/python3.10/dist-packages (from celery->dvc) (1.1.1)\n",
            "Requirement already satisfied: atpublic in /usr/local/lib/python3.10/dist-packages (from flufl.lock<9,>=8.1.0->dvc) (4.1.0)\n",
            "Requirement already satisfied: typer>=0.4.1 in /usr/local/lib/python3.10/dist-packages (from gto<2,>=1.6.0->dvc) (0.12.3)\n",
            "Requirement already satisfied: pydantic!=2.0.0,<3,>=1.9.0 in /usr/local/lib/python3.10/dist-packages (from gto<2,>=1.6.0->dvc) (2.8.2)\n",
            "Requirement already satisfied: semver>=2.13.0 in /usr/local/lib/python3.10/dist-packages (from gto<2,>=1.6.0->dvc) (3.0.2)\n",
            "Requirement already satisfied: entrypoints in /usr/local/lib/python3.10/dist-packages (from gto<2,>=1.6.0->dvc) (0.4)\n",
            "Requirement already satisfied: antlr4-python3-runtime==4.9.* in /usr/local/lib/python3.10/dist-packages (from hydra-core>=1.1->dvc) (4.9.3)\n",
            "Requirement already satisfied: appdirs in /usr/local/lib/python3.10/dist-packages (from iterative-telemetry>=0.0.7->dvc) (1.4.4)\n",
            "Requirement already satisfied: filelock in /usr/local/lib/python3.10/dist-packages (from iterative-telemetry>=0.0.7->dvc) (3.15.4)\n",
            "Requirement already satisfied: MarkupSafe>=2.0 in /usr/local/lib/python3.10/dist-packages (from Jinja2>=3.0->Flask) (2.1.5)\n",
            "Requirement already satisfied: namex in /usr/local/lib/python3.10/dist-packages (from keras>=3.2.0->tensorflow) (0.0.8)\n",
            "Requirement already satisfied: optree in /usr/local/lib/python3.10/dist-packages (from keras>=3.2.0->tensorflow) (0.12.1)\n",
            "Requirement already satisfied: amqp<6.0.0,>=5.1.1 in /usr/local/lib/python3.10/dist-packages (from kombu->dvc) (5.2.0)\n",
            "Requirement already satisfied: charset-normalizer<4,>=2 in /usr/local/lib/python3.10/dist-packages (from requests<3,>=2.21.0->tensorflow) (3.3.2)\n",
            "Requirement already satisfied: idna<4,>=2.5 in /usr/local/lib/python3.10/dist-packages (from requests<3,>=2.21.0->tensorflow) (3.7)\n",
            "Requirement already satisfied: urllib3<3,>=1.21.1 in /usr/local/lib/python3.10/dist-packages (from requests<3,>=2.21.0->tensorflow) (2.0.7)\n",
            "Requirement already satisfied: certifi>=2017.4.17 in /usr/local/lib/python3.10/dist-packages (from requests<3,>=2.21.0->tensorflow) (2024.7.4)\n",
            "Requirement already satisfied: markdown-it-py>=2.2.0 in /usr/local/lib/python3.10/dist-packages (from rich>=12->dvc) (3.0.0)\n",
            "Requirement already satisfied: pygments<3.0.0,>=2.13.0 in /usr/local/lib/python3.10/dist-packages (from rich>=12->dvc) (2.16.1)\n",
            "Requirement already satisfied: ruamel.yaml.clib>=0.2.7 in /usr/local/lib/python3.10/dist-packages (from ruamel.yaml>=0.17.11->dvc) (0.2.8)\n",
            "Requirement already satisfied: gitpython>3 in /usr/local/lib/python3.10/dist-packages (from scmrepo<4,>=3.3.4->dvc) (3.1.43)\n",
            "Requirement already satisfied: pygit2>=1.14.0 in /usr/local/lib/python3.10/dist-packages (from scmrepo<4,>=3.3.4->dvc) (1.15.1)\n",
            "Requirement already satisfied: asyncssh<3,>=2.13.1 in /usr/local/lib/python3.10/dist-packages (from scmrepo<4,>=3.3.4->dvc) (2.15.0)\n",
            "Requirement already satisfied: markdown>=2.6.8 in /usr/local/lib/python3.10/dist-packages (from tensorboard<2.18,>=2.17->tensorflow) (3.6)\n",
            "Requirement already satisfied: tensorboard-data-server<0.8.0,>=0.7.0 in /usr/local/lib/python3.10/dist-packages (from tensorboard<2.18,>=2.17->tensorflow) (0.7.2)\n",
            "Requirement already satisfied: aiohttp in /usr/local/lib/python3.10/dist-packages (from aiohttp-retry>=2.5.0->dvc-http>=2.29.0->dvc) (3.10.2)\n",
            "Requirement already satisfied: cryptography>=39.0 in /usr/local/lib/python3.10/dist-packages (from asyncssh<3,>=2.13.1->scmrepo<4,>=3.3.4->dvc) (42.0.8)\n",
            "Requirement already satisfied: prompt-toolkit>=3.0.36 in /usr/local/lib/python3.10/dist-packages (from click-repl>=0.2.0->celery->dvc) (3.0.47)\n",
            "Requirement already satisfied: gitdb<5,>=4.0.1 in /usr/local/lib/python3.10/dist-packages (from gitpython>3->scmrepo<4,>=3.3.4->dvc) (4.0.11)\n",
            "Requirement already satisfied: mdurl~=0.1 in /usr/local/lib/python3.10/dist-packages (from markdown-it-py>=2.2.0->rich>=12->dvc) (0.1.2)\n",
            "Requirement already satisfied: annotated-types>=0.4.0 in /usr/local/lib/python3.10/dist-packages (from pydantic!=2.0.0,<3,>=1.9.0->gto<2,>=1.6.0->dvc) (0.7.0)\n",
            "Requirement already satisfied: pydantic-core==2.20.1 in /usr/local/lib/python3.10/dist-packages (from pydantic!=2.0.0,<3,>=1.9.0->gto<2,>=1.6.0->dvc) (2.20.1)\n",
            "Requirement already satisfied: cffi>=1.16.0 in /usr/local/lib/python3.10/dist-packages (from pygit2>=1.14.0->scmrepo<4,>=3.3.4->dvc) (1.17.0)\n",
            "Requirement already satisfied: orjson in /usr/local/lib/python3.10/dist-packages (from sqltrie<1,>=0.11.0->dvc-data<3.16,>=3.15->dvc) (3.10.7)\n",
            "Requirement already satisfied: shellingham>=1.3.0 in /usr/local/lib/python3.10/dist-packages (from typer>=0.4.1->gto<2,>=1.6.0->dvc) (1.5.4)\n",
            "Requirement already satisfied: aiohappyeyeballs>=2.3.0 in /usr/local/lib/python3.10/dist-packages (from aiohttp->aiohttp-retry>=2.5.0->dvc-http>=2.29.0->dvc) (2.3.5)\n",
            "Requirement already satisfied: aiosignal>=1.1.2 in /usr/local/lib/python3.10/dist-packages (from aiohttp->aiohttp-retry>=2.5.0->dvc-http>=2.29.0->dvc) (1.3.1)\n",
            "Requirement already satisfied: frozenlist>=1.1.1 in /usr/local/lib/python3.10/dist-packages (from aiohttp->aiohttp-retry>=2.5.0->dvc-http>=2.29.0->dvc) (1.4.1)\n",
            "Requirement already satisfied: multidict<7.0,>=4.5 in /usr/local/lib/python3.10/dist-packages (from aiohttp->aiohttp-retry>=2.5.0->dvc-http>=2.29.0->dvc) (6.0.5)\n",
            "Requirement already satisfied: yarl<2.0,>=1.0 in /usr/local/lib/python3.10/dist-packages (from aiohttp->aiohttp-retry>=2.5.0->dvc-http>=2.29.0->dvc) (1.9.4)\n",
            "Requirement already satisfied: async-timeout<5.0,>=4.0 in /usr/local/lib/python3.10/dist-packages (from aiohttp->aiohttp-retry>=2.5.0->dvc-http>=2.29.0->dvc) (4.0.3)\n",
            "Requirement already satisfied: pycparser in /usr/local/lib/python3.10/dist-packages (from cffi>=1.16.0->pygit2>=1.14.0->scmrepo<4,>=3.3.4->dvc) (2.22)\n",
            "Requirement already satisfied: smmap<6,>=3.0.1 in /usr/local/lib/python3.10/dist-packages (from gitdb<5,>=4.0.1->gitpython>3->scmrepo<4,>=3.3.4->dvc) (5.0.1)\n",
            "Requirement already satisfied: wcwidth in /usr/local/lib/python3.10/dist-packages (from prompt-toolkit>=3.0.36->click-repl>=0.2.0->celery->dvc) (0.2.13)\n"
          ]
        }
      ],
      "source": [
        "!pip install pandas numpy tensorflow scikit-learn matplotlib dvc PyYAML python-box==6.0.2 tqdm ensure==1.0.2 joblib types-PyYAML scipy Flask Flask-Cors"
      ]
    },
    {
      "cell_type": "code",
      "source": [
        "# import libraries\n",
        "from tensorflow.keras.layers import Conv2D, MaxPooling2D, Flatten, Dense, Dropout, GlobalAveragePooling2D\n",
        "from sklearn.metrics import accuracy_score, precision_score, recall_score, f1_score\n",
        "from tensorflow.keras.callbacks import EarlyStopping, ReduceLROnPlateau\n",
        "from tensorflow.keras.applications import MobileNetV2\n",
        "from sklearn.model_selection import train_test_split\n",
        "from tensorflow.keras.preprocessing import image\n",
        "from tensorflow.keras.models import Sequential\n",
        "from tensorflow.keras.optimizers import Adam\n",
        "from sklearn.metrics import confusion_matrix\n",
        "import matplotlib.pyplot as plt\n",
        "import tensorflow as tf\n",
        "import seaborn as sns\n",
        "import numpy as np\n",
        "import random\n",
        "import os\n",
        "\n"
      ],
      "metadata": {
        "id": "BkcuicqtIZX2"
      },
      "execution_count": 2,
      "outputs": []
    },
    {
      "cell_type": "code",
      "source": [
        "# Load data from google drive\n",
        "from google.colab import drive\n",
        "drive.mount('/content/drive', force_remount=True)"
      ],
      "metadata": {
        "id": "uR3M_yfb4GCq",
        "colab": {
          "base_uri": "https://localhost:8080/"
        },
        "outputId": "69e68fe6-c2ae-453b-c2f6-5deda45b68d2"
      },
      "execution_count": 2,
      "outputs": [
        {
          "output_type": "stream",
          "name": "stdout",
          "text": [
            "Mounted at /content/drive\n"
          ]
        }
      ]
    },
    {
      "cell_type": "code",
      "source": [
        "# Path to your train and test directory\n",
        "train_dir = r'/content/drive/MyDrive/Malaria parasite images/Train'\n",
        "test_path = r'/content/drive/MyDrive/Malaria parasite images/Test'\n"
      ],
      "metadata": {
        "id": "77Dggt_u5BrQ"
      },
      "execution_count": 3,
      "outputs": []
    },
    {
      "cell_type": "code",
      "source": [
        "# Specify parameters for batch size, image height and width\n",
        "batch_size = 32\n",
        "img_height = 224\n",
        "img_width = 224"
      ],
      "metadata": {
        "id": "Qq5DUa6B4dac"
      },
      "execution_count": 4,
      "outputs": []
    },
    {
      "cell_type": "code",
      "source": [
        "def load_dataset(directory, target_size=(img_height, img_width)):\n",
        "    images = []\n",
        "    labels = []\n",
        "    class_names = os.listdir(directory)\n",
        "    for class_name in class_names:\n",
        "        class_path = os.path.join(directory, class_name)\n",
        "        class_label = 1 if class_name == 'uninfected' else 0\n",
        "        for img_name in os.listdir(class_path):\n",
        "            img_path = os.path.join(class_path, img_name)\n",
        "            img = tf.keras.preprocessing.image.load_img(img_path, target_size=target_size)\n",
        "            img_array = tf.keras.preprocessing.image.img_to_array(img) / 255.0\n",
        "            images.append(img_array)\n",
        "            labels.append(class_label)\n",
        "    return np.array(images), np.array(labels)\n"
      ],
      "metadata": {
        "id": "_CpAm1C54atg"
      },
      "execution_count": 5,
      "outputs": []
    },
    {
      "cell_type": "code",
      "source": [
        "# Load and split the data\n",
        "X, y = load_dataset(train_dir)\n",
        "\n",
        "X_train, X_val, y_train, y_val = train_test_split(X, y, test_size=0.2, random_state=42)\n",
        "\n",
        "print(f\"X_train shape: {X_train.shape}\")\n",
        "print(f\"y_train shape: {y_train.shape}\")\n",
        "print(f\"X_val shape: {X_val.shape}\")\n",
        "print(f\"y_val shape: {y_val.shape}\")\n"
      ],
      "metadata": {
        "colab": {
          "base_uri": "https://localhost:8080/"
        },
        "id": "6OPUcXx95onJ",
        "outputId": "4c0b046e-b403-4787-e4c8-e54bde72d91f"
      },
      "execution_count": 6,
      "outputs": [
        {
          "output_type": "stream",
          "name": "stdout",
          "text": [
            "X_train shape: (22072, 224, 224, 3)\n",
            "y_train shape: (22072,)\n",
            "X_val shape: (5518, 224, 224, 3)\n",
            "y_val shape: (5518,)\n"
          ]
        }
      ]
    },
    {
      "cell_type": "code",
      "source": [
        "# Check class distribution\n",
        "train_infected = np.sum(y_train == 0)\n",
        "train_uninfected = np.sum(y_train == 1)\n",
        "val_infected = np.sum(y_val == 0)\n",
        "val_uninfected = np.sum(y_val == 1)\n",
        "\n",
        "print(f\"Training set - Infected: {train_infected}, Uninfected: {train_uninfected}\")\n",
        "print(f\"Validation set - Infected: {val_infected}, Uninfected: {val_uninfected}\")\n"
      ],
      "metadata": {
        "colab": {
          "base_uri": "https://localhost:8080/"
        },
        "id": "4pSAfaGT54DD",
        "outputId": "6d54865b-f696-4c24-a923-0e2e606fa42a"
      },
      "execution_count": 7,
      "outputs": [
        {
          "output_type": "stream",
          "name": "stdout",
          "text": [
            "Training set - Infected: 11002, Uninfected: 11070\n",
            "Validation set - Infected: 2795, Uninfected: 2723\n"
          ]
        }
      ]
    },
    {
      "cell_type": "code",
      "source": [
        "# Creating model layers\n",
        "def create_model():\n",
        "    model = Sequential([\n",
        "        Conv2D(32, (3, 3), activation='relu', input_shape=(img_height, img_width, 3), kernel_regularizer=tf.keras.regularizers.l2(0.01)),\n",
        "        MaxPooling2D(2, 2),\n",
        "        Conv2D(64, (3, 3), activation='relu', kernel_regularizer=tf.keras.regularizers.l2(0.01)),\n",
        "        MaxPooling2D(2, 2),\n",
        "        Conv2D(64, (3, 3), activation='relu', kernel_regularizer=tf.keras.regularizers.l2(0.01)),\n",
        "        MaxPooling2D(2, 2),\n",
        "        Conv2D(128, (3, 3), activation='relu', kernel_regularizer=tf.keras.regularizers.l2(0.01)),\n",
        "        MaxPooling2D(2, 2),\n",
        "        Flatten(),\n",
        "        Dense(128, activation='relu', kernel_regularizer=tf.keras.regularizers.l2(0.01)),\n",
        "        Dropout(0.5),\n",
        "        Dense(1, activation='sigmoid')\n",
        "    ])\n",
        "\n",
        "    model.compile(optimizer=Adam(learning_rate=0.0001),\n",
        "                  loss='binary_crossentropy',\n",
        "                  metrics=['accuracy'])\n",
        "    return model\n"
      ],
      "metadata": {
        "id": "KKqGDf3d578P"
      },
      "execution_count": 8,
      "outputs": []
    },
    {
      "cell_type": "code",
      "source": [
        "# Create and compile the model\n",
        "model = create_model()\n",
        "model.summary()\n"
      ],
      "metadata": {
        "colab": {
          "base_uri": "https://localhost:8080/"
        },
        "id": "6JUsXzF15_9L",
        "outputId": "22311fa4-6ab1-4b9a-8fe6-98700d287d1d"
      },
      "execution_count": 9,
      "outputs": [
        {
          "output_type": "stream",
          "name": "stdout",
          "text": [
            "Model: \"sequential\"\n",
            "_________________________________________________________________\n",
            " Layer (type)                Output Shape              Param #   \n",
            "=================================================================\n",
            " conv2d (Conv2D)             (None, 222, 222, 32)      896       \n",
            "                                                                 \n",
            " max_pooling2d (MaxPooling2  (None, 111, 111, 32)      0         \n",
            " D)                                                              \n",
            "                                                                 \n",
            " conv2d_1 (Conv2D)           (None, 109, 109, 64)      18496     \n",
            "                                                                 \n",
            " max_pooling2d_1 (MaxPoolin  (None, 54, 54, 64)        0         \n",
            " g2D)                                                            \n",
            "                                                                 \n",
            " conv2d_2 (Conv2D)           (None, 52, 52, 64)        36928     \n",
            "                                                                 \n",
            " max_pooling2d_2 (MaxPoolin  (None, 26, 26, 64)        0         \n",
            " g2D)                                                            \n",
            "                                                                 \n",
            " conv2d_3 (Conv2D)           (None, 24, 24, 128)       73856     \n",
            "                                                                 \n",
            " max_pooling2d_3 (MaxPoolin  (None, 12, 12, 128)       0         \n",
            " g2D)                                                            \n",
            "                                                                 \n",
            " flatten (Flatten)           (None, 18432)             0         \n",
            "                                                                 \n",
            " dense (Dense)               (None, 128)               2359424   \n",
            "                                                                 \n",
            " dropout (Dropout)           (None, 128)               0         \n",
            "                                                                 \n",
            " dense_1 (Dense)             (None, 1)                 129       \n",
            "                                                                 \n",
            "=================================================================\n",
            "Total params: 2489729 (9.50 MB)\n",
            "Trainable params: 2489729 (9.50 MB)\n",
            "Non-trainable params: 0 (0.00 Byte)\n",
            "_________________________________________________________________\n"
          ]
        }
      ]
    },
    {
      "cell_type": "code",
      "source": [
        "# Callbacks\n",
        "early_stop = EarlyStopping(monitor='val_loss', patience=10, restore_best_weights=True)\n",
        "reduce_lr = ReduceLROnPlateau(monitor='val_loss', factor=0.2, patience=5, min_lr=0.00001)\n",
        "\n",
        "# Train the model\n",
        "history = model.fit(\n",
        "    X_train, y_train,\n",
        "    batch_size=32,\n",
        "    epochs=25,\n",
        "    validation_data=(X_val, y_val),\n",
        "    callbacks=[early_stop, reduce_lr]\n",
        ")\n"
      ],
      "metadata": {
        "colab": {
          "base_uri": "https://localhost:8080/"
        },
        "id": "-OhBs9lL6DXc",
        "outputId": "9f8ab75c-0ef5-4cec-bec1-53a096937a2a"
      },
      "execution_count": 10,
      "outputs": [
        {
          "output_type": "stream",
          "name": "stdout",
          "text": [
            "Epoch 1/25\n",
            "690/690 [==============================] - 266s 383ms/step - loss: 1.6793 - accuracy: 0.6840 - val_loss: 0.8050 - val_accuracy: 0.8454 - lr: 1.0000e-04\n",
            "Epoch 2/25\n",
            "690/690 [==============================] - 257s 373ms/step - loss: 0.6413 - accuracy: 0.9025 - val_loss: 0.5230 - val_accuracy: 0.9197 - lr: 1.0000e-04\n",
            "Epoch 3/25\n",
            "690/690 [==============================] - 257s 372ms/step - loss: 0.5147 - accuracy: 0.9195 - val_loss: 0.4530 - val_accuracy: 0.9286 - lr: 1.0000e-04\n",
            "Epoch 4/25\n",
            "690/690 [==============================] - 262s 380ms/step - loss: 0.4557 - accuracy: 0.9222 - val_loss: 0.4143 - val_accuracy: 0.9233 - lr: 1.0000e-04\n",
            "Epoch 5/25\n",
            "690/690 [==============================] - 259s 376ms/step - loss: 0.4186 - accuracy: 0.9223 - val_loss: 0.3853 - val_accuracy: 0.9328 - lr: 1.0000e-04\n",
            "Epoch 6/25\n",
            "690/690 [==============================] - 258s 374ms/step - loss: 0.3925 - accuracy: 0.9212 - val_loss: 0.3655 - val_accuracy: 0.9339 - lr: 1.0000e-04\n",
            "Epoch 7/25\n",
            "690/690 [==============================] - 258s 373ms/step - loss: 0.3716 - accuracy: 0.9239 - val_loss: 0.3470 - val_accuracy: 0.9290 - lr: 1.0000e-04\n",
            "Epoch 8/25\n",
            "690/690 [==============================] - 261s 379ms/step - loss: 0.3604 - accuracy: 0.9261 - val_loss: 0.3310 - val_accuracy: 0.9302 - lr: 1.0000e-04\n",
            "Epoch 9/25\n",
            "690/690 [==============================] - 265s 384ms/step - loss: 0.3471 - accuracy: 0.9271 - val_loss: 0.3216 - val_accuracy: 0.9319 - lr: 1.0000e-04\n",
            "Epoch 10/25\n",
            "690/690 [==============================] - 257s 372ms/step - loss: 0.3402 - accuracy: 0.9268 - val_loss: 0.3145 - val_accuracy: 0.9346 - lr: 1.0000e-04\n",
            "Epoch 11/25\n",
            "690/690 [==============================] - 259s 375ms/step - loss: 0.3297 - accuracy: 0.9266 - val_loss: 0.3066 - val_accuracy: 0.9329 - lr: 1.0000e-04\n",
            "Epoch 12/25\n",
            "690/690 [==============================] - 259s 375ms/step - loss: 0.3219 - accuracy: 0.9263 - val_loss: 0.3033 - val_accuracy: 0.9362 - lr: 1.0000e-04\n",
            "Epoch 13/25\n",
            "690/690 [==============================] - 257s 372ms/step - loss: 0.3213 - accuracy: 0.9279 - val_loss: 0.3021 - val_accuracy: 0.9252 - lr: 1.0000e-04\n",
            "Epoch 14/25\n",
            "690/690 [==============================] - 259s 375ms/step - loss: 0.3117 - accuracy: 0.9262 - val_loss: 0.2967 - val_accuracy: 0.9342 - lr: 1.0000e-04\n",
            "Epoch 15/25\n",
            "690/690 [==============================] - 260s 377ms/step - loss: 0.3088 - accuracy: 0.9291 - val_loss: 0.2912 - val_accuracy: 0.9364 - lr: 1.0000e-04\n",
            "Epoch 16/25\n",
            "690/690 [==============================] - 258s 374ms/step - loss: 0.3035 - accuracy: 0.9290 - val_loss: 0.2880 - val_accuracy: 0.9378 - lr: 1.0000e-04\n",
            "Epoch 17/25\n",
            "690/690 [==============================] - 260s 376ms/step - loss: 0.3000 - accuracy: 0.9286 - val_loss: 0.2819 - val_accuracy: 0.9308 - lr: 1.0000e-04\n",
            "Epoch 18/25\n",
            "690/690 [==============================] - 262s 380ms/step - loss: 0.2966 - accuracy: 0.9289 - val_loss: 0.2841 - val_accuracy: 0.9250 - lr: 1.0000e-04\n",
            "Epoch 19/25\n",
            "690/690 [==============================] - 257s 372ms/step - loss: 0.2923 - accuracy: 0.9291 - val_loss: 0.2757 - val_accuracy: 0.9337 - lr: 1.0000e-04\n",
            "Epoch 20/25\n",
            "690/690 [==============================] - 255s 370ms/step - loss: 0.2902 - accuracy: 0.9296 - val_loss: 0.2782 - val_accuracy: 0.9270 - lr: 1.0000e-04\n",
            "Epoch 21/25\n",
            "690/690 [==============================] - 257s 372ms/step - loss: 0.2867 - accuracy: 0.9290 - val_loss: 0.2701 - val_accuracy: 0.9331 - lr: 1.0000e-04\n",
            "Epoch 22/25\n",
            "690/690 [==============================] - 259s 376ms/step - loss: 0.2845 - accuracy: 0.9291 - val_loss: 0.2802 - val_accuracy: 0.9208 - lr: 1.0000e-04\n",
            "Epoch 23/25\n",
            "690/690 [==============================] - 260s 376ms/step - loss: 0.2851 - accuracy: 0.9286 - val_loss: 0.2650 - val_accuracy: 0.9362 - lr: 1.0000e-04\n",
            "Epoch 24/25\n",
            "690/690 [==============================] - 257s 373ms/step - loss: 0.2828 - accuracy: 0.9308 - val_loss: 0.2668 - val_accuracy: 0.9335 - lr: 1.0000e-04\n",
            "Epoch 25/25\n",
            "690/690 [==============================] - 258s 374ms/step - loss: 0.2801 - accuracy: 0.9301 - val_loss: 0.2656 - val_accuracy: 0.9337 - lr: 1.0000e-04\n"
          ]
        }
      ]
    },
    {
      "cell_type": "code",
      "source": [
        "# Plot training history\n",
        "plt.figure(figsize=(12, 4))\n",
        "plt.subplot(1, 2, 1)\n",
        "plt.plot(history.history['accuracy'], label='Training Accuracy')\n",
        "plt.plot(history.history['val_accuracy'], label='Validation Accuracy')\n",
        "plt.title('Model Accuracy')\n",
        "plt.xlabel('Epoch')\n",
        "plt.ylabel('Accuracy')\n",
        "plt.legend()\n",
        "\n",
        "plt.subplot(1, 2, 2)\n",
        "plt.plot(history.history['loss'], label='Training Loss')\n",
        "plt.plot(history.history['val_loss'], label='Validation Loss')\n",
        "plt.title('Model Loss')\n",
        "plt.xlabel('Epoch')\n",
        "plt.ylabel('Loss')\n",
        "plt.legend()\n",
        "\n",
        "plt.tight_layout()\n",
        "plt.show()\n"
      ],
      "metadata": {
        "id": "stY_r0i36GWD",
        "colab": {
          "base_uri": "https://localhost:8080/",
          "height": 237
        },
        "outputId": "82f1acae-386e-421b-fe11-fe49422f079a"
      },
      "execution_count": 11,
      "outputs": [
        {
          "output_type": "display_data",
          "data": {
            "text/plain": [
              "<Figure size 1200x400 with 2 Axes>"
            ],
            "image/png": "[encoded data removed]"
          },
          "metadata": {}
        }
      ]
    },
    {
      "cell_type": "code",
      "source": [
        "# Function to predict and display results\n",
        "def predict_and_display(model, img_path, target_size=(img_height, img_height)):\n",
        "    try:\n",
        "        img = image.load_img(img_path, target_size=target_size)\n",
        "        plt.imshow(img)\n",
        "        plt.axis('off')\n",
        "        plt.show()\n",
        "\n",
        "        X = image.img_to_array(img)\n",
        "        X = X / 255.0  # Normalize the image\n",
        "        X = np.expand_dims(X, axis=0)\n",
        "\n",
        "        val = model.predict(X)\n",
        "\n",
        "        prediction = \"uninfected\" if val[0][0] > 0.5 else \"infected\"\n",
        "        print(f\"Predicted: {prediction}\")\n",
        "\n",
        "        return val[0][0]\n",
        "    except Exception as e:\n",
        "        print(f\"Error processing image {img_path}: {str(e)}\")\n",
        "        return None\n",
        "\n",
        "# Get list of all images and randomly select 100\n",
        "all_images = os.listdir(test_path)\n",
        "selected_images = random.sample(all_images, min(100, len(all_images)))\n",
        "\n",
        "# Process selected images\n",
        "results = []\n",
        "true_labels = []\n",
        "for i in selected_images:\n",
        "    img_path = os.path.join(test_path, i)\n",
        "    print(f\"\\nProcessing image: {i}\")\n",
        "    probability = predict_and_display(model, img_path)\n",
        "    if probability is not None:\n",
        "        results.append({'image': i, 'probability': probability})\n",
        "        # Assuming the true label is in the filename (e.g., \"infected_001.png\")\n",
        "        true_label = 1 if \"uninfected\" in i.lower() else 0\n",
        "        true_labels.append(true_label)\n",
        "\n",
        "# Display summary of results\n",
        "print(\"\\nSummary of Results:\")\n",
        "for result in results:\n",
        "    print(f\"Image: {result['image']}, Probability of being uninfected: {result['probability']:.4f}\")\n",
        "\n",
        "# Calculate overall statistics\n",
        "predicted_labels = [1 if r['probability'] > 0.5 else 0 for r in results]\n",
        "\n",
        "accuracy = accuracy_score(true_labels, predicted_labels)\n",
        "precision = precision_score(true_labels, predicted_labels)\n",
        "recall = recall_score(true_labels, predicted_labels)\n",
        "f1 = f1_score(true_labels, predicted_labels)\n",
        "\n",
        "print(f\"\\nTotal images processed: {len(results)}\")\n",
        "print(f\"Accuracy: {accuracy:.2%}\")\n",
        "print(f\"Precision: {precision:.2%}\")\n",
        "print(f\"Recall: {recall:.2%}\")\n",
        "print(f\"F1 Score: {f1:.2%}\")\n",
        "\n",
        "# Confusion matrix\n",
        "cm = confusion_matrix(true_labels, predicted_labels)\n",
        "plt.figure(figsize=(8, 6))\n",
        "sns.heatmap(cm, annot=True, fmt='d', cmap='Blues')\n",
        "plt.title('Confusion Matrix')\n",
        "plt.ylabel('True Label')\n",
        "plt.xlabel('Predicted Label')\n",
        "plt.show()"
      ],
      "metadata": {
        "id": "6HwiWLI96Lpe"
      },
      "execution_count": null,
      "outputs": []
    }
  ]
}